{
 "cells": [
  {
   "cell_type": "code",
   "execution_count": 1,
   "metadata": {},
   "outputs": [],
   "source": [
    "from env import env\n",
    "from utils.robot import Robot\n",
    "from policy import SOA\n",
    "import configparser"
   ]
  },
  {
   "cell_type": "code",
   "execution_count": 6,
   "metadata": {},
   "outputs": [
    {
     "ename": "TypeError",
     "evalue": "'env' object is not callable",
     "output_type": "error",
     "traceback": [
      "\u001b[1;31m---------------------------------------------------------------------------\u001b[0m",
      "\u001b[1;31mTypeError\u001b[0m                                 Traceback (most recent call last)",
      "\u001b[1;32m<ipython-input-6-e96a7e579985>\u001b[0m in \u001b[0;36m<module>\u001b[1;34m\u001b[0m\n\u001b[1;32m----> 1\u001b[1;33m \u001b[0menv\u001b[0m \u001b[1;33m=\u001b[0m \u001b[0menv\u001b[0m\u001b[1;33m(\u001b[0m\u001b[1;33m)\u001b[0m\u001b[1;33m\u001b[0m\u001b[1;33m\u001b[0m\u001b[0m\n\u001b[0m\u001b[0;32m      2\u001b[0m \u001b[0mpolicy1\u001b[0m \u001b[1;33m=\u001b[0m \u001b[0mSOA1\u001b[0m\u001b[1;33m(\u001b[0m\u001b[1;33m)\u001b[0m\u001b[1;33m\u001b[0m\u001b[1;33m\u001b[0m\u001b[0m\n\u001b[0;32m      3\u001b[0m \u001b[0mpolicy2\u001b[0m \u001b[1;33m=\u001b[0m \u001b[0mSOA2\u001b[0m\u001b[1;33m(\u001b[0m\u001b[1;33m)\u001b[0m\u001b[1;33m\u001b[0m\u001b[1;33m\u001b[0m\u001b[0m\n",
      "\u001b[1;31mTypeError\u001b[0m: 'env' object is not callable"
     ]
    }
   ],
   "source": [
    "env = env()\n",
    "policy1 = SOA1()\n",
    "policy2 = SOA2()"
   ]
  },
  {
   "cell_type": "code",
   "execution_count": 3,
   "metadata": {
    "scrolled": true
   },
   "outputs": [],
   "source": [
    "policy_config = configparser.RawConfigParser()\n",
    "policy_config.read('./config/policy.config')\n",
    "policy.configure(policy_config)"
   ]
  },
  {
   "cell_type": "code",
   "execution_count": 4,
   "metadata": {},
   "outputs": [],
   "source": [
    "env_config = configparser.RawConfigParser()\n",
    "env_config.read('./config/env.config')\n",
    "env.configure(env_config)\n",
    "\n",
    "robot = Robot(env_config, 'robot')\n",
    "policy1.set_env(env)\n",
    "robot.set_policy(policy)\n",
    "robot.print_info()"
   ]
  },
  {
   "cell_type": "code",
   "execution_count": 5,
   "metadata": {},
   "outputs": [
    {
     "name": "stdout",
     "output_type": "stream",
     "text": [
      "0 5.0 3.43 1.0\n",
      "1 -1.29 0.29 1.4\n",
      "2 -2.86 5.0 1.0\n",
      "3 -4.43 5.0 1.4\n",
      "4 1.86 -2.86 1.8\n",
      "5 0.29 1.86 2.6\n",
      "6 3.43 -6.0 1.8\n",
      "7 1.86 -2.86 1.4\n",
      "8 5.0 3.43 1.8\n",
      "9 0.29 3.43 1.8\n",
      "10 1.86 -2.86 1.4\n",
      "11 0.29 3.43 1.0\n",
      "12 -2.86 -1.29 1.0\n",
      "13 -4.43 5.0 1.4\n",
      "14 -6.0 -1.29 1.8\n",
      "15 -4.43 1.86 2.6\n",
      "16 -2.86 -4.43 1.0\n",
      "17 3.43 1.86 1.4\n",
      "18 0.29 -1.29 3.0\n",
      "19 0.29 0.29 3.0\n",
      "20 -2.86 -6.0 2.2\n",
      "21 -6.0 -6.0 1.4\n"
     ]
    },
    {
     "data": {
      "text/plain": [
       "[<utils.obstacle.ObservableState at 0x1c227da5978>,\n",
       " <utils.obstacle.ObservableState at 0x1c227da59b0>,\n",
       " <utils.obstacle.ObservableState at 0x1c227da59e8>,\n",
       " <utils.obstacle.ObservableState at 0x1c227da5a20>,\n",
       " <utils.obstacle.ObservableState at 0x1c227da5a58>,\n",
       " <utils.obstacle.ObservableState at 0x1c227da5a90>,\n",
       " <utils.obstacle.ObservableState at 0x1c227da5ac8>,\n",
       " <utils.obstacle.ObservableState at 0x1c227da5b00>,\n",
       " <utils.obstacle.ObservableState at 0x1c227da5b38>,\n",
       " <utils.obstacle.ObservableState at 0x1c227da5b70>,\n",
       " <utils.obstacle.ObservableState at 0x1c227da5ba8>,\n",
       " <utils.obstacle.ObservableState at 0x1c227da5be0>,\n",
       " <utils.obstacle.ObservableState at 0x1c227da5c18>,\n",
       " <utils.obstacle.ObservableState at 0x1c227da5c50>,\n",
       " <utils.obstacle.ObservableState at 0x1c227da5c88>,\n",
       " <utils.obstacle.ObservableState at 0x1c227da5cc0>,\n",
       " <utils.obstacle.ObservableState at 0x1c227da5cf8>,\n",
       " <utils.obstacle.ObservableState at 0x1c227da5d30>,\n",
       " <utils.obstacle.ObservableState at 0x1c227da5d68>,\n",
       " <utils.obstacle.ObservableState at 0x1c227da5da0>,\n",
       " <utils.obstacle.ObservableState at 0x1c227da5dd8>,\n",
       " <utils.obstacle.ObservableState at 0x1c227da5e10>]"
      ]
     },
     "execution_count": 5,
     "metadata": {},
     "output_type": "execute_result"
    }
   ],
   "source": [
    "env.set_robot(robot)\n",
    "env.reset()"
   ]
  },
  {
   "cell_type": "code",
   "execution_count": 30,
   "metadata": {},
   "outputs": [
    {
     "data": {
      "text/plain": [
       "['pillow', 'html']"
      ]
     },
     "execution_count": 30,
     "metadata": {},
     "output_type": "execute_result"
    }
   ],
   "source": [
    "import matplotlib.animation as manimation; manimation.writers.list()"
   ]
  },
  {
   "cell_type": "code",
   "execution_count": 26,
   "metadata": {},
   "outputs": [],
   "source": [
    "%matplotlib notebook"
   ]
  },
  {
   "cell_type": "code",
   "execution_count": 46,
   "metadata": {},
   "outputs": [
    {
     "name": "stdout",
     "output_type": "stream",
     "text": [
      "build_action_space\n"
     ]
    },
    {
     "name": "stderr",
     "output_type": "stream",
     "text": [
      "2020-05-01 14:12:37, INFO: Using device: cpu\n",
      "2020-05-01 14:12:37, INFO: grid_size:0.2, Square width: 6.0, circle width: 2.0\n",
      "2020-05-01 14:12:37, INFO: Agent is invisible and has non-holonomic kinematic constraint\n",
      "2020-05-01 14:12:40, INFO: Animation.save using <class 'matplotlib.animation.PillowWriter'>\n",
      "2020-05-01 14:12:48, INFO: It takes 29.25 seconds to finish. Final status is Timeout\n"
     ]
    }
   ],
   "source": [
    "!python test.py --model_dir data/output --phase test --visualize --video new.gif --test_case 23"
   ]
  }
 ],
 "metadata": {
  "kernelspec": {
   "display_name": "crowdnav",
   "language": "python",
   "name": "crowdnav"
  },
  "language_info": {
   "codemirror_mode": {
    "name": "ipython",
    "version": 3
   },
   "file_extension": ".py",
   "mimetype": "text/x-python",
   "name": "python",
   "nbconvert_exporter": "python",
   "pygments_lexer": "ipython3",
   "version": "3.6.10"
  }
 },
 "nbformat": 4,
 "nbformat_minor": 4
}
